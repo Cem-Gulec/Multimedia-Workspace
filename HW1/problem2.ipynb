{
 "cells": [
  {
   "cell_type": "code",
   "execution_count": 11,
   "metadata": {},
   "outputs": [],
   "source": [
    "from PIL import Image\n",
    "import numpy as np\n",
    "import scipy.ndimage\n",
    "import math"
   ]
  },
  {
   "cell_type": "code",
   "execution_count": 12,
   "metadata": {},
   "outputs": [
    {
     "name": "stdout",
     "output_type": "stream",
     "text": [
      "uint8     (256, 256)\n",
      "[[137 136 133 ... 145 148 114]\n",
      " [137 136 133 ... 145 148 114]\n",
      " [138 133 134 ... 133 125  87]\n",
      " ...\n",
      " [ 28  28  29 ...  53  62  59]\n",
      " [ 20  25  26 ...  64  69  65]\n",
      " [ 22  30  25 ...  71  68  72]]\n"
     ]
    }
   ],
   "source": [
    "# reading original image\n",
    "# default format for this is \"uint8\"\n",
    "img = np.array(Image.open('C:/Users/Cem/Documents/GitHub/Multimedia-Workspace/HW1/Lena.gif'))\n",
    "\n",
    "print(img.dtype, \"   \", img.shape)\n",
    "print(img)"
   ]
  },
  {
   "cell_type": "code",
   "execution_count": 13,
   "metadata": {},
   "outputs": [
    {
     "name": "stdout",
     "output_type": "stream",
     "text": [
      "[[137. 136. 133. ... 145. 148. 114.]\n",
      " [137. 136. 133. ... 145. 148. 114.]\n",
      " [138. 133. 134. ... 133. 125.  87.]\n",
      " ...\n",
      " [ 28.  28.  29. ...  53.  62.  59.]\n",
      " [ 20.  25.  26. ...  64.  69.  65.]\n",
      " [ 22.  30.  25. ...  71.  68.  72.]]\n"
     ]
    }
   ],
   "source": [
    "# converting from type \"uint8\" to \"double\" format\n",
    "_img = img.astype(np.float64)\n",
    "\n",
    "print(_img)"
   ]
  },
  {
   "cell_type": "code",
   "execution_count": 14,
   "metadata": {},
   "outputs": [
    {
     "name": "stdout",
     "output_type": "stream",
     "text": [
      "[[0.04 0.04 0.04 0.04 0.04]\n",
      " [0.04 0.04 0.04 0.04 0.04]\n",
      " [0.04 0.04 0.04 0.04 0.04]\n",
      " [0.04 0.04 0.04 0.04 0.04]\n",
      " [0.04 0.04 0.04 0.04 0.04]]\n"
     ]
    }
   ],
   "source": [
    "# declaring filter array full of 1/25 values\n",
    "lowpass_filter = np.full((5, 5), 1/25)\n",
    "\n",
    "print(lowpass_filter)"
   ]
  },
  {
   "cell_type": "code",
   "execution_count": 15,
   "metadata": {
    "scrolled": true
   },
   "outputs": [
    {
     "name": "stdout",
     "output_type": "stream",
     "text": [
      "[[136.04 135.44 134.24 ...  25.64  24.92  24.6 ]\n",
      " [135.72 135.04 133.92 ...  26.24  25.68  25.44]\n",
      " [135.8  135.12 134.12 ...  28.16  27.6   27.2 ]\n",
      " ...\n",
      " [121.72 109.88  92.72 ...  50.2   56.84  61.44]\n",
      " [124.96 109.52  89.12 ...  54.16  60.56  65.24]\n",
      " [122.36 105.08  83.92 ...  57.8   63.48  67.4 ]]\n"
     ]
    }
   ],
   "source": [
    "# equivalent function to \"imfilter\" in MATLAB\n",
    "# to handle replicate mode with image converted to double format\n",
    "# using low pass filter\n",
    "filtered_img = scipy.ndimage.correlate(_img, lowpass_filter, mode='nearest').transpose()\n",
    "\n",
    "print(filtered_img)"
   ]
  },
  {
   "cell_type": "code",
   "execution_count": 16,
   "metadata": {},
   "outputs": [],
   "source": [
    "# calculation for MSE\n",
    "N1, N2 = _img.shape[0], _img.shape[1]\n",
    "MSE = 0\n",
    "\n",
    "for i in range(N1):\n",
    "    for j in range(N2):\n",
    "        difference = filtered_img[i][j] - _img[i][j]\n",
    "        MSE += pow(difference, 2)\n",
    "\n",
    "MSE = MSE / (N1*N2)"
   ]
  },
  {
   "cell_type": "code",
   "execution_count": 17,
   "metadata": {},
   "outputs": [],
   "source": [
    "# calculation for PSNR\n",
    "tmp_var = (pow(255, 2) / MSE)\n",
    "PSNR = 10 * math.log10(tmp_var)"
   ]
  },
  {
   "cell_type": "code",
   "execution_count": 18,
   "metadata": {},
   "outputs": [
    {
     "data": {
      "text/plain": [
       "11.603151799825524"
      ]
     },
     "execution_count": 18,
     "metadata": {},
     "output_type": "execute_result"
    }
   ],
   "source": [
    "PSNR"
   ]
  },
  {
   "cell_type": "code",
   "execution_count": 21,
   "metadata": {},
   "outputs": [
    {
     "name": "stdout",
     "output_type": "stream",
     "text": [
      "     11.60\n"
     ]
    }
   ],
   "source": [
    "print(\"{:10.2f}\".format(PSNR))"
   ]
  },
  {
   "cell_type": "code",
   "execution_count": null,
   "metadata": {},
   "outputs": [],
   "source": []
  }
 ],
 "metadata": {
  "kernelspec": {
   "display_name": "Python 3",
   "language": "python",
   "name": "python3"
  },
  "language_info": {
   "codemirror_mode": {
    "name": "ipython",
    "version": 3
   },
   "file_extension": ".py",
   "mimetype": "text/x-python",
   "name": "python",
   "nbconvert_exporter": "python",
   "pygments_lexer": "ipython3",
   "version": "3.7.9"
  }
 },
 "nbformat": 4,
 "nbformat_minor": 4
}

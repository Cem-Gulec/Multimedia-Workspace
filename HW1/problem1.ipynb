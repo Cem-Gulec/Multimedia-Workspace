{
 "cells": [
  {
   "cell_type": "code",
   "execution_count": 25,
   "metadata": {},
   "outputs": [],
   "source": [
    "from PIL import Image\n",
    "import numpy as np\n",
    "import scipy.ndimage\n",
    "import math"
   ]
  },
  {
   "cell_type": "code",
   "execution_count": 26,
   "metadata": {},
   "outputs": [
    {
     "name": "stdout",
     "output_type": "stream",
     "text": [
      "uint8     (256, 256)\n",
      "[[137 136 133 ... 145 148 114]\n",
      " [137 136 133 ... 145 148 114]\n",
      " [138 133 134 ... 133 125  87]\n",
      " ...\n",
      " [ 28  28  29 ...  53  62  59]\n",
      " [ 20  25  26 ...  64  69  65]\n",
      " [ 22  30  25 ...  71  68  72]]\n"
     ]
    }
   ],
   "source": [
    "# reading original image\n",
    "# default format for this is \"uint8\"\n",
    "img = np.array(Image.open('C:/Users/Cem/Documents/GitHub/Multimedia-Workspace/HW1/Lena.gif'))\n",
    "\n",
    "print(img.dtype, \"   \", img.shape)\n",
    "print(img)"
   ]
  },
  {
   "cell_type": "code",
   "execution_count": 27,
   "metadata": {},
   "outputs": [
    {
     "name": "stdout",
     "output_type": "stream",
     "text": [
      "[[137. 136. 133. ... 145. 148. 114.]\n",
      " [137. 136. 133. ... 145. 148. 114.]\n",
      " [138. 133. 134. ... 133. 125.  87.]\n",
      " ...\n",
      " [ 28.  28.  29. ...  53.  62.  59.]\n",
      " [ 20.  25.  26. ...  64.  69.  65.]\n",
      " [ 22.  30.  25. ...  71.  68.  72.]]\n"
     ]
    }
   ],
   "source": [
    "# converting from type \"uint8\" to \"double\" format\n",
    "_img = img.astype(np.float64)\n",
    "\n",
    "print(_img)"
   ]
  },
  {
   "cell_type": "code",
   "execution_count": 28,
   "metadata": {},
   "outputs": [
    {
     "name": "stdout",
     "output_type": "stream",
     "text": [
      "[[0.11111111 0.11111111 0.11111111]\n",
      " [0.11111111 0.11111111 0.11111111]\n",
      " [0.11111111 0.11111111 0.11111111]]\n"
     ]
    }
   ],
   "source": [
    "# declaring filter array full of 1/9 values\n",
    "lowpass_filter = np.full((3, 3), 1/9)\n",
    "\n",
    "print(lowpass_filter)"
   ]
  },
  {
   "cell_type": "code",
   "execution_count": 35,
   "metadata": {
    "scrolled": true
   },
   "outputs": [
    {
     "name": "stdout",
     "output_type": "stream",
     "text": [
      "[[136.66666667 136.55555556 135.33333333 ...  25.          24.77777778\n",
      "   23.66666667]\n",
      " [135.33333333 135.22222222 134.44444444 ...  26.33333333  25.88888889\n",
      "   25.        ]\n",
      " [135.         134.55555556 133.55555556 ...  27.33333333  27.11111111\n",
      "   26.77777778]\n",
      " ...\n",
      " [138.66666667 134.         109.77777778 ...  50.88888889  60.33333333\n",
      "   65.77777778]\n",
      " [135.66666667 128.77777778  99.44444444 ...  57.44444444  64.77777778\n",
      "   68.88888889]\n",
      " [125.33333333 116.77777778  86.55555556 ...  59.77777778  65.66666667\n",
      "   69.22222222]]\n"
     ]
    }
   ],
   "source": [
    "# equivalent function to \"imfilter\" in MATLAB\n",
    "# to handle replicate mode with image converted to double format\n",
    "# using low pass filter\n",
    "filtered_img = scipy.ndimage.correlate(_img, lowpass_filter, mode='nearest').transpose()\n",
    "\n",
    "print(filtered_img)"
   ]
  },
  {
   "cell_type": "code",
   "execution_count": 30,
   "metadata": {},
   "outputs": [],
   "source": [
    "# calculation for MSE\n",
    "N1, N2 = _img.shape[0], _img.shape[1]\n",
    "MSE = 0\n",
    "\n",
    "for i in range(N1):\n",
    "    for j in range(N2):\n",
    "        difference = filtered_img[i][j] - _img[i][j]\n",
    "        MSE += pow(difference, 2)\n",
    "\n",
    "MSE = MSE / (N1*N2)"
   ]
  },
  {
   "cell_type": "code",
   "execution_count": 33,
   "metadata": {},
   "outputs": [],
   "source": [
    "# calculation for PSNR\n",
    "tmp_var = (pow(255, 2) / MSE)\n",
    "PSNR = 10 * math.log10(tmp_var)"
   ]
  },
  {
   "cell_type": "code",
   "execution_count": 34,
   "metadata": {},
   "outputs": [
    {
     "data": {
      "text/plain": [
       "11.452751514291483"
      ]
     },
     "execution_count": 34,
     "metadata": {},
     "output_type": "execute_result"
    }
   ],
   "source": [
    "PSNR"
   ]
  },
  {
   "cell_type": "code",
   "execution_count": null,
   "metadata": {},
   "outputs": [],
   "source": []
  }
 ],
 "metadata": {
  "kernelspec": {
   "display_name": "Python 3",
   "language": "python",
   "name": "python3"
  },
  "language_info": {
   "codemirror_mode": {
    "name": "ipython",
    "version": 3
   },
   "file_extension": ".py",
   "mimetype": "text/x-python",
   "name": "python",
   "nbconvert_exporter": "python",
   "pygments_lexer": "ipython3",
   "version": "3.7.9"
  }
 },
 "nbformat": 4,
 "nbformat_minor": 4
}
